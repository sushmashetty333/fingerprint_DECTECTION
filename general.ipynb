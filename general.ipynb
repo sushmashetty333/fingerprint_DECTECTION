{
 "cells": [
  {
   "cell_type": "code",
   "execution_count": 1,
   "id": "4003d667",
   "metadata": {},
   "outputs": [
    {
     "name": "stdout",
     "output_type": "stream",
     "text": [
      "BEST MATCH : 150__M_Right_index_finger.BMP\n",
      "SCORE : 94.28571428571428\n"
     ]
    }
   ],
   "source": [
    "import os\n",
    "import cv2\n",
    "\n",
    "sample = cv2.imread(\"Downloads/fingerprint/SOCOFing/Altered/Altered-Easy/150__M_Right_index_finger_Obl.BMP\") \n",
    "\n",
    "best_score = 0\n",
    "filename = None\n",
    "image = None\n",
    "kp1, kp2, mp= None, None, None\n",
    "\n",
    "counter = 0\n",
    "for file in [file for file in os.listdir(\"Downloads/fingerprint/SOCOFing/Real\")][:1000]:\n",
    "    fingerprint_image = cv2.imread(\"Downloads/fingerprint/SOCOFing/Real/\" + file)\n",
    "    sift =  cv2.SIFT_create()\n",
    "\n",
    "    keypoints_1, descriptors_1 = sift.detectAndCompute(sample ,None)\n",
    "    keypoints_2, descriptors_2 = sift.detectAndCompute(fingerprint_image ,None)\n",
    "\n",
    "    matches = cv2.FlannBasedMatcher({'algorithm':1, 'trees': 10},{}).knnMatch(descriptors_1 ,descriptors_2 ,k=2)\n",
    "\n",
    "    match_points = []\n",
    "\n",
    "    for p,q in matches:\n",
    "        if p.distance < 0.1 * q.distance:\n",
    "            match_points.append(p)\n",
    "\n",
    "    keypoints = 0\n",
    "    if len(keypoints_1) < len(keypoints_2):\n",
    "        keypoints = len(keypoints_1)\n",
    "    else:\n",
    "        keypoints = len(keypoints_2)\n",
    "\n",
    "    if len(match_points) / keypoints * 100 > best_score:\n",
    "        best_score = len(match_points) / keypoints * 100\n",
    "        filename = file\n",
    "        image = fingerprint_image\n",
    "        kp1, kp2, mp = keypoints_1, keypoints_2, match_points\n",
    "\n",
    "\n",
    "print(\"BEST MATCH : \"+filename)\n",
    "print(\"SCORE : \"+ str(best_score))\n",
    "\n",
    "result = cv2.drawMatches(sample, kp1, image, kp2, mp ,None)\n",
    "result = cv2.resize(result, None, fx=4, fy=4)\n",
    "cv2.imshow(\"Result\", result)\n",
    "cv2.waitKey(0)\n",
    "cv2.destroyAllWindows()"
   ]
  },
  {
   "cell_type": "code",
   "execution_count": null,
   "id": "2db1b300",
   "metadata": {},
   "outputs": [],
   "source": []
  }
 ],
 "metadata": {
  "kernelspec": {
   "display_name": "Python 3 (ipykernel)",
   "language": "python",
   "name": "python3"
  },
  "language_info": {
   "codemirror_mode": {
    "name": "ipython",
    "version": 3
   },
   "file_extension": ".py",
   "mimetype": "text/x-python",
   "name": "python",
   "nbconvert_exporter": "python",
   "pygments_lexer": "ipython3",
   "version": "3.9.13"
  }
 },
 "nbformat": 4,
 "nbformat_minor": 5
}
